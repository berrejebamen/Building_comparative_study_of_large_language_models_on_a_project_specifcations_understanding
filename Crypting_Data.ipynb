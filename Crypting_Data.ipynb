{
 "cells": [
  {
   "cell_type": "code",
   "execution_count": 3,
   "id": "138c0d72",
   "metadata": {},
   "outputs": [
    {
     "name": "stdout",
     "output_type": "stream",
     "text": [
      "Modified file saved as: data2_crypted.txt\n"
     ]
    }
   ],
   "source": [
    "import random\n",
    "\n",
    "def replace_chars_with_symbols(input_file):\n",
    "    # Determine the output filename\n",
    "    output_file = input_file.rsplit('.', 1)[0] + '_crypted.txt'\n",
    "\n",
    "    with open(input_file, 'r' ,encoding='utf-8') as infile:\n",
    "        content = infile.read()\n",
    "\n",
    "    # Replace non-space characters with either * or #\n",
    "    modified_content = ''.join(random.choice(['*', '#']) if char != ' ' else ' ' for char in content)\n",
    "\n",
    "    with open(output_file, 'w' ,encoding='utf-8') as outfile:\n",
    "        outfile.write(modified_content)\n",
    "\n",
    "    return output_file  # Returning the generated filename for reference\n",
    "\n",
    "\n",
    "generated_file = replace_chars_with_symbols('data2.txt')\n",
    "print(f\"Modified file saved as: {generated_file}\")\n"
   ]
  },
  {
   "cell_type": "code",
   "execution_count": null,
   "id": "8eeb83d9",
   "metadata": {},
   "outputs": [],
   "source": []
  }
 ],
 "metadata": {
  "kernelspec": {
   "display_name": "Python 3 (ipykernel)",
   "language": "python",
   "name": "python3"
  },
  "language_info": {
   "codemirror_mode": {
    "name": "ipython",
    "version": 3
   },
   "file_extension": ".py",
   "mimetype": "text/x-python",
   "name": "python",
   "nbconvert_exporter": "python",
   "pygments_lexer": "ipython3",
   "version": "3.9.12"
  }
 },
 "nbformat": 4,
 "nbformat_minor": 5
}
