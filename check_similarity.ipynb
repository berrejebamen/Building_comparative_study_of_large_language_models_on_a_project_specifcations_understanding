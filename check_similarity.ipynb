{
 "cells": [
  {
   "cell_type": "code",
   "execution_count": 4,
   "id": "415fba42",
   "metadata": {},
   "outputs": [
    {
     "name": "stdout",
     "output_type": "stream",
     "text": [
      "Enter your question: hi\n"
     ]
    },
    {
     "ename": "KeyError",
     "evalue": "'patterns'",
     "output_type": "error",
     "traceback": [
      "\u001b[1;31m---------------------------------------------------------------------------\u001b[0m",
      "\u001b[1;31mKeyError\u001b[0m                                  Traceback (most recent call last)",
      "Input \u001b[1;32mIn [4]\u001b[0m, in \u001b[0;36m<cell line: 32>\u001b[1;34m()\u001b[0m\n\u001b[0;32m     29\u001b[0m     \u001b[38;5;28;01mreturn\u001b[39;00m most_similar_question, max_similarity\n\u001b[0;32m     31\u001b[0m \u001b[38;5;66;03m# Find the most similar question and its similarity score\u001b[39;00m\n\u001b[1;32m---> 32\u001b[0m similar_question, similarity_score \u001b[38;5;241m=\u001b[39m \u001b[43mfind_similar_question\u001b[49m\u001b[43m(\u001b[49m\u001b[43muser_question\u001b[49m\u001b[43m,\u001b[49m\u001b[43m \u001b[49m\u001b[43mintents\u001b[49m\u001b[43m)\u001b[49m\n\u001b[0;32m     34\u001b[0m \u001b[38;5;66;03m# Define notebook options\u001b[39;00m\n\u001b[0;32m     35\u001b[0m notebook_options \u001b[38;5;241m=\u001b[39m [\u001b[38;5;124m'\u001b[39m\u001b[38;5;124mtrying_bert.ipynb\u001b[39m\u001b[38;5;124m'\u001b[39m, \u001b[38;5;124m'\u001b[39m\u001b[38;5;124mtrying_albert.ipynb\u001b[39m\u001b[38;5;124m'\u001b[39m, \u001b[38;5;124m'\u001b[39m\u001b[38;5;124mtrying_T5.ipynb\u001b[39m\u001b[38;5;124m'\u001b[39m]\n",
      "Input \u001b[1;32mIn [4]\u001b[0m, in \u001b[0;36mfind_similar_question\u001b[1;34m(user_question, intents)\u001b[0m\n\u001b[0;32m     20\u001b[0m max_similarity \u001b[38;5;241m=\u001b[39m \u001b[38;5;241m0\u001b[39m\n\u001b[0;32m     21\u001b[0m most_similar_question \u001b[38;5;241m=\u001b[39m \u001b[38;5;28;01mNone\u001b[39;00m\n\u001b[1;32m---> 23\u001b[0m \u001b[38;5;28;01mfor\u001b[39;00m intent \u001b[38;5;129;01min\u001b[39;00m \u001b[43mintents\u001b[49m\u001b[43m[\u001b[49m\u001b[38;5;124;43m'\u001b[39;49m\u001b[38;5;124;43mpatterns\u001b[39;49m\u001b[38;5;124;43m'\u001b[39;49m\u001b[43m]\u001b[49m:\n\u001b[0;32m     24\u001b[0m     similarity \u001b[38;5;241m=\u001b[39m fuzz\u001b[38;5;241m.\u001b[39mratio(user_question\u001b[38;5;241m.\u001b[39mlower(), intent[\u001b[38;5;124m'\u001b[39m\u001b[38;5;124mquestion\u001b[39m\u001b[38;5;124m'\u001b[39m]\u001b[38;5;241m.\u001b[39mlower())\n\u001b[0;32m     25\u001b[0m     \u001b[38;5;28;01mif\u001b[39;00m similarity \u001b[38;5;241m>\u001b[39m max_similarity:\n",
      "\u001b[1;31mKeyError\u001b[0m: 'patterns'"
     ]
    }
   ],
   "source": [
    "from fuzzywuzzy import fuzz\n",
    "import json\n",
    "import os\n",
    "import random\n",
    "from notebook import notebookapp\n",
    "\n",
    "# Function to run a Jupyter notebook\n",
    "def run_notebook(notebook_name):\n",
    "    os.system(f\"jupyter notebook {notebook_name}\")\n",
    "\n",
    "# Load intents from JSON file\n",
    "with open('intents.json', 'r') as file:\n",
    "    intents = json.load(file)\n",
    "\n",
    "# Get user input\n",
    "user_question = input(\"Enter your question: \")\n",
    "\n",
    "# Function to find the most similar question\n",
    "def find_similar_question(user_question, intents):\n",
    "    max_similarity = 0\n",
    "    most_similar_question = None\n",
    "\n",
    "    for intent in intents['patterns']:\n",
    "        similarity = fuzz.ratio(user_question.lower(), intent['question'].lower())\n",
    "        if similarity > max_similarity:\n",
    "            max_similarity = similarity\n",
    "            most_similar_question = intent['question']\n",
    "\n",
    "    return most_similar_question, max_similarity\n",
    "\n",
    "# Find the most similar question and its similarity score\n",
    "similar_question, similarity_score = find_similar_question(user_question, intents)\n",
    "\n",
    "# Define notebook options\n",
    "notebook_options = ['trying_bert.ipynb', 'trying_albert.ipynb', 'trying_T5.ipynb']\n",
    "chosen_notebook = None\n",
    "\n",
    "# Check if there's a very similar question, if not, choose a random notebook\n",
    "if similarity_score >= 80:\n",
    "    chosen_notebook = 'third_step.ipynb'\n",
    "    print(f\"Running 'third_step.ipynb' because similarity score is {similarity_score}%\")\n",
    "else:\n",
    "    chosen_notebook = random.choice(notebook_options)\n",
    "    print(f\"Running '{chosen_notebook}' with a random selection\")\n",
    "\n",
    "# Check if the notebook server is already running, if not, start one\n",
    "servers = list(notebookapp.list_running_servers())\n",
    "if not servers:\n",
    "    os.system('jupyter notebook &')\n",
    "\n",
    "# Run the chosen notebook\n",
    "run_notebook(chosen_notebook)\n"
   ]
  },
  {
   "cell_type": "code",
   "execution_count": null,
   "id": "c4bae99f",
   "metadata": {},
   "outputs": [],
   "source": []
  }
 ],
 "metadata": {
  "kernelspec": {
   "display_name": "Python 3 (ipykernel)",
   "language": "python",
   "name": "python3"
  },
  "language_info": {
   "codemirror_mode": {
    "name": "ipython",
    "version": 3
   },
   "file_extension": ".py",
   "mimetype": "text/x-python",
   "name": "python",
   "nbconvert_exporter": "python",
   "pygments_lexer": "ipython3",
   "version": "3.9.12"
  }
 },
 "nbformat": 4,
 "nbformat_minor": 5
}
